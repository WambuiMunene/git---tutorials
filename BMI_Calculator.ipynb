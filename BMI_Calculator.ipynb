{
 "cells": [
  {
   "cell_type": "code",
   "execution_count": null,
   "id": "37ba8744",
   "metadata": {},
   "outputs": [],
   "source": [
    " # BMI Calculator\n",
    "    "
   ]
  },
  {
   "cell_type": "code",
   "execution_count": 1,
   "id": "c17708c6",
   "metadata": {},
   "outputs": [
    {
     "name": "stdout",
     "output_type": "stream",
     "text": [
      "what is your name: Wambui\n",
      "Hello Wambui. Welcome to our BMI Calculator\n"
     ]
    }
   ],
   "source": [
    "name = input(\"what is your name: \")\n",
    "print(f\"Hello {name}. Welcome to our BMI Calculator\")"
   ]
  },
  {
   "cell_type": "code",
   "execution_count": 3,
   "id": "a9e8656a",
   "metadata": {},
   "outputs": [
    {
     "name": "stdout",
     "output_type": "stream",
     "text": [
      "Provide us with the information below\n",
      "enter your weight: Kgs85\n",
      "enter your height : metres1.68\n",
      "=========BMI Results=============\n",
      "Your BMI is: 30.12\n",
      "Overweight\n"
     ]
    }
   ],
   "source": [
    "print(\"Provide us with the information below\")\n",
    "weight = float(input(\"enter your weight: Kgs\"))\n",
    "height = float(input(\"enter your height : metres\"))\n",
    "\n",
    "BMI = round(weight/(height *height),2)\n",
    "\n",
    "print(\"=========BMI Results=============\")\n",
    "print(f\"Your BMI is: {BMI}\")\n",
    "\n",
    "if BMI > 25:\n",
    "    print(\"Overweight\")\n",
    "elif BMI < 18:\n",
    "    print('underweight')\n",
    "else:\n",
    "    print (\"normal\")"
   ]
  },
  {
   "cell_type": "code",
   "execution_count": null,
   "id": "3e7205b7",
   "metadata": {},
   "outputs": [],
   "source": []
  }
 ],
 "metadata": {
  "kernelspec": {
   "display_name": "Python 3 (ipykernel)",
   "language": "python",
   "name": "python3"
  },
  "language_info": {
   "codemirror_mode": {
    "name": "ipython",
    "version": 3
   },
   "file_extension": ".py",
   "mimetype": "text/x-python",
   "name": "python",
   "nbconvert_exporter": "python",
   "pygments_lexer": "ipython3",
   "version": "3.11.7"
  }
 },
 "nbformat": 4,
 "nbformat_minor": 5
}
